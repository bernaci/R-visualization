{
 "cells": [
  {
   "cell_type": "code",
   "execution_count": 1,
   "metadata": {},
   "outputs": [
    {
     "name": "stderr",
     "output_type": "stream",
     "text": [
      "Registered S3 methods overwritten by 'ggplot2':\n",
      "  method         from \n",
      "  [.quosures     rlang\n",
      "  c.quosures     rlang\n",
      "  print.quosures rlang\n",
      "Registered S3 method overwritten by 'rvest':\n",
      "  method            from\n",
      "  read_xml.response xml2\n",
      "── Attaching packages ─────────────────────────────────────── tidyverse 1.2.1 ──\n",
      "✔ ggplot2 3.1.1       ✔ purrr   0.3.2  \n",
      "✔ tibble  2.1.1       ✔ dplyr   0.8.0.1\n",
      "✔ tidyr   0.8.3       ✔ stringr 1.4.0  \n",
      "✔ readr   1.3.1       ✔ forcats 0.4.0  \n",
      "── Conflicts ────────────────────────────────────────── tidyverse_conflicts() ──\n",
      "✖ dplyr::filter() masks stats::filter()\n",
      "✖ dplyr::lag()    masks stats::lag()\n"
     ]
    }
   ],
   "source": [
    "library(tidyverse)\n",
    "# install.packages(\"tidyverse\")\n",
    "\n",
    "# This one line of code loads the core tidyverse; packages which you will use in almost every data analysis."
   ]
  },
  {
   "cell_type": "markdown",
   "metadata": {},
   "source": [
    "## STEP 1: THE DATA"
   ]
  },
  {
   "cell_type": "code",
   "execution_count": 18,
   "metadata": {},
   "outputs": [],
   "source": [
    "# List of available datasets in R\n",
    "\n",
    "data()"
   ]
  },
  {
   "cell_type": "code",
   "execution_count": 32,
   "metadata": {},
   "outputs": [
    {
     "data": {
      "text/html": [
       "<table>\n",
       "<thead><tr><th scope=col>manufacturer</th><th scope=col>model</th><th scope=col>displ</th><th scope=col>year</th><th scope=col>cyl</th><th scope=col>trans</th><th scope=col>drv</th><th scope=col>cty</th><th scope=col>hwy</th><th scope=col>fl</th><th scope=col>class</th></tr></thead>\n",
       "<tbody>\n",
       "\t<tr><td>audi      </td><td>a4        </td><td>1.8       </td><td>1999      </td><td>4         </td><td>auto(l5)  </td><td>f         </td><td>18        </td><td>29        </td><td>p         </td><td>compact   </td></tr>\n",
       "\t<tr><td>audi      </td><td>a4        </td><td>1.8       </td><td>1999      </td><td>4         </td><td>manual(m5)</td><td>f         </td><td>21        </td><td>29        </td><td>p         </td><td>compact   </td></tr>\n",
       "\t<tr><td>audi      </td><td>a4        </td><td>2.0       </td><td>2008      </td><td>4         </td><td>manual(m6)</td><td>f         </td><td>20        </td><td>31        </td><td>p         </td><td>compact   </td></tr>\n",
       "\t<tr><td>audi      </td><td>a4        </td><td>2.0       </td><td>2008      </td><td>4         </td><td>auto(av)  </td><td>f         </td><td>21        </td><td>30        </td><td>p         </td><td>compact   </td></tr>\n",
       "\t<tr><td>audi      </td><td>a4        </td><td>2.8       </td><td>1999      </td><td>6         </td><td>auto(l5)  </td><td>f         </td><td>16        </td><td>26        </td><td>p         </td><td>compact   </td></tr>\n",
       "\t<tr><td>audi      </td><td>a4        </td><td>2.8       </td><td>1999      </td><td>6         </td><td>manual(m5)</td><td>f         </td><td>18        </td><td>26        </td><td>p         </td><td>compact   </td></tr>\n",
       "\t<tr><td>audi      </td><td>a4        </td><td>3.1       </td><td>2008      </td><td>6         </td><td>auto(av)  </td><td>f         </td><td>18        </td><td>27        </td><td>p         </td><td>compact   </td></tr>\n",
       "\t<tr><td>audi      </td><td>a4 quattro</td><td>1.8       </td><td>1999      </td><td>4         </td><td>manual(m5)</td><td>4         </td><td>18        </td><td>26        </td><td>p         </td><td>compact   </td></tr>\n",
       "\t<tr><td>audi      </td><td>a4 quattro</td><td>1.8       </td><td>1999      </td><td>4         </td><td>auto(l5)  </td><td>4         </td><td>16        </td><td>25        </td><td>p         </td><td>compact   </td></tr>\n",
       "\t<tr><td>audi      </td><td>a4 quattro</td><td>2.0       </td><td>2008      </td><td>4         </td><td>manual(m6)</td><td>4         </td><td>20        </td><td>28        </td><td>p         </td><td>compact   </td></tr>\n",
       "</tbody>\n",
       "</table>\n"
      ],
      "text/latex": [
       "\\begin{tabular}{r|lllllllllll}\n",
       " manufacturer & model & displ & year & cyl & trans & drv & cty & hwy & fl & class\\\\\n",
       "\\hline\n",
       "\t audi       & a4         & 1.8        & 1999       & 4          & auto(l5)   & f          & 18         & 29         & p          & compact   \\\\\n",
       "\t audi       & a4         & 1.8        & 1999       & 4          & manual(m5) & f          & 21         & 29         & p          & compact   \\\\\n",
       "\t audi       & a4         & 2.0        & 2008       & 4          & manual(m6) & f          & 20         & 31         & p          & compact   \\\\\n",
       "\t audi       & a4         & 2.0        & 2008       & 4          & auto(av)   & f          & 21         & 30         & p          & compact   \\\\\n",
       "\t audi       & a4         & 2.8        & 1999       & 6          & auto(l5)   & f          & 16         & 26         & p          & compact   \\\\\n",
       "\t audi       & a4         & 2.8        & 1999       & 6          & manual(m5) & f          & 18         & 26         & p          & compact   \\\\\n",
       "\t audi       & a4         & 3.1        & 2008       & 6          & auto(av)   & f          & 18         & 27         & p          & compact   \\\\\n",
       "\t audi       & a4 quattro & 1.8        & 1999       & 4          & manual(m5) & 4          & 18         & 26         & p          & compact   \\\\\n",
       "\t audi       & a4 quattro & 1.8        & 1999       & 4          & auto(l5)   & 4          & 16         & 25         & p          & compact   \\\\\n",
       "\t audi       & a4 quattro & 2.0        & 2008       & 4          & manual(m6) & 4          & 20         & 28         & p          & compact   \\\\\n",
       "\\end{tabular}\n"
      ],
      "text/markdown": [
       "\n",
       "| manufacturer | model | displ | year | cyl | trans | drv | cty | hwy | fl | class |\n",
       "|---|---|---|---|---|---|---|---|---|---|---|\n",
       "| audi       | a4         | 1.8        | 1999       | 4          | auto(l5)   | f          | 18         | 29         | p          | compact    |\n",
       "| audi       | a4         | 1.8        | 1999       | 4          | manual(m5) | f          | 21         | 29         | p          | compact    |\n",
       "| audi       | a4         | 2.0        | 2008       | 4          | manual(m6) | f          | 20         | 31         | p          | compact    |\n",
       "| audi       | a4         | 2.0        | 2008       | 4          | auto(av)   | f          | 21         | 30         | p          | compact    |\n",
       "| audi       | a4         | 2.8        | 1999       | 6          | auto(l5)   | f          | 16         | 26         | p          | compact    |\n",
       "| audi       | a4         | 2.8        | 1999       | 6          | manual(m5) | f          | 18         | 26         | p          | compact    |\n",
       "| audi       | a4         | 3.1        | 2008       | 6          | auto(av)   | f          | 18         | 27         | p          | compact    |\n",
       "| audi       | a4 quattro | 1.8        | 1999       | 4          | manual(m5) | 4          | 18         | 26         | p          | compact    |\n",
       "| audi       | a4 quattro | 1.8        | 1999       | 4          | auto(l5)   | 4          | 16         | 25         | p          | compact    |\n",
       "| audi       | a4 quattro | 2.0        | 2008       | 4          | manual(m6) | 4          | 20         | 28         | p          | compact    |\n",
       "\n"
      ],
      "text/plain": [
       "   manufacturer model      displ year cyl trans      drv cty hwy fl class  \n",
       "1  audi         a4         1.8   1999 4   auto(l5)   f   18  29  p  compact\n",
       "2  audi         a4         1.8   1999 4   manual(m5) f   21  29  p  compact\n",
       "3  audi         a4         2.0   2008 4   manual(m6) f   20  31  p  compact\n",
       "4  audi         a4         2.0   2008 4   auto(av)   f   21  30  p  compact\n",
       "5  audi         a4         2.8   1999 6   auto(l5)   f   16  26  p  compact\n",
       "6  audi         a4         2.8   1999 6   manual(m5) f   18  26  p  compact\n",
       "7  audi         a4         3.1   2008 6   auto(av)   f   18  27  p  compact\n",
       "8  audi         a4 quattro 1.8   1999 4   manual(m5) 4   18  26  p  compact\n",
       "9  audi         a4 quattro 1.8   1999 4   auto(l5)   4   16  25  p  compact\n",
       "10 audi         a4 quattro 2.0   2008 4   manual(m6) 4   20  28  p  compact"
      ]
     },
     "metadata": {},
     "output_type": "display_data"
    }
   ],
   "source": [
    "# head of select dataset\n",
    "\n",
    "head(mpg, 10)"
   ]
  },
  {
   "cell_type": "code",
   "execution_count": null,
   "metadata": {},
   "outputs": [],
   "source": [
    "# check the shape of the data\n",
    "\n",
    "dim(mpg)"
   ]
  },
  {
   "cell_type": "code",
   "execution_count": 30,
   "metadata": {},
   "outputs": [
    {
     "name": "stdout",
     "output_type": "stream",
     "text": [
      "Classes ‘tbl_df’, ‘tbl’ and 'data.frame':\t234 obs. of  11 variables:\n",
      " $ manufacturer: chr  \"audi\" \"audi\" \"audi\" \"audi\" ...\n",
      " $ model       : chr  \"a4\" \"a4\" \"a4\" \"a4\" ...\n",
      " $ displ       : num  1.8 1.8 2 2 2.8 2.8 3.1 1.8 1.8 2 ...\n",
      " $ year        : int  1999 1999 2008 2008 1999 1999 2008 1999 1999 2008 ...\n",
      " $ cyl         : int  4 4 4 4 6 6 6 4 4 4 ...\n",
      " $ trans       : chr  \"auto(l5)\" \"manual(m5)\" \"manual(m6)\" \"auto(av)\" ...\n",
      " $ drv         : chr  \"f\" \"f\" \"f\" \"f\" ...\n",
      " $ cty         : int  18 21 20 21 16 18 18 18 16 20 ...\n",
      " $ hwy         : int  29 29 31 30 26 26 27 26 25 28 ...\n",
      " $ fl          : chr  \"p\" \"p\" \"p\" \"p\" ...\n",
      " $ class       : chr  \"compact\" \"compact\" \"compact\" \"compact\" ...\n"
     ]
    }
   ],
   "source": [
    "# check the structure of the data\n",
    "\n",
    "str(mpg)"
   ]
  },
  {
   "cell_type": "code",
   "execution_count": 52,
   "metadata": {},
   "outputs": [
    {
     "data": {
      "text/plain": [
       "     manufacturer    model               displ            year     \n",
       " dodge     :37    Length:234         Min.   :1.600   Min.   :1999  \n",
       " toyota    :34    Class :character   1st Qu.:2.400   1st Qu.:1999  \n",
       " volkswagen:27    Mode  :character   Median :3.300   Median :2004  \n",
       " ford      :25                       Mean   :3.472   Mean   :2004  \n",
       " chevrolet :19                       3rd Qu.:4.600   3rd Qu.:2008  \n",
       " audi      :18                       Max.   :7.000   Max.   :2008  \n",
       " (Other)   :74                                                     \n",
       "      cyl           trans               drv                 cty       \n",
       " Min.   :4.000   Length:234         Length:234         Min.   : 9.00  \n",
       " 1st Qu.:4.000   Class :character   Class :character   1st Qu.:14.00  \n",
       " Median :6.000   Mode  :character   Mode  :character   Median :17.00  \n",
       " Mean   :5.889                                         Mean   :16.86  \n",
       " 3rd Qu.:8.000                                         3rd Qu.:19.00  \n",
       " Max.   :8.000                                         Max.   :35.00  \n",
       "                                                                      \n",
       "      hwy             fl               class          \n",
       " Min.   :12.00   Length:234         Length:234        \n",
       " 1st Qu.:18.00   Class :character   Class :character  \n",
       " Median :24.00   Mode  :character   Mode  :character  \n",
       " Mean   :23.44                                        \n",
       " 3rd Qu.:27.00                                        \n",
       " Max.   :44.00                                        \n",
       "                                                      "
      ]
     },
     "metadata": {},
     "output_type": "display_data"
    }
   ],
   "source": [
    "# Summary of the data\n",
    "\n",
    "summary(mpg)"
   ]
  },
  {
   "cell_type": "code",
   "execution_count": 63,
   "metadata": {},
   "outputs": [],
   "source": [
    "# factorized the categorical variables\n",
    "mpg$manufacturer <- factor(mpg$manufacturer)\n",
    "mpg$model <- factor(mpg$model)\n",
    "mpg$trans <- factor(mpg$trans)\n",
    "mpg$drv <- factor(mpg$drv)\n",
    "mpg$cty <- factor(mpg$cty)\n",
    "mpg$fl <- factor(mpg$fl)\n",
    "mpg$class <- factor(mpg$class)\n"
   ]
  },
  {
   "cell_type": "code",
   "execution_count": 64,
   "metadata": {},
   "outputs": [
    {
     "data": {
      "text/plain": [
       "     manufacturer                 model         displ            year     \n",
       " dodge     :37    caravan 2wd        : 11   Min.   :1.600   Min.   :1999  \n",
       " toyota    :34    ram 1500 pickup 4wd: 10   1st Qu.:2.400   1st Qu.:1999  \n",
       " volkswagen:27    civic              :  9   Median :3.300   Median :2004  \n",
       " ford      :25    dakota pickup 4wd  :  9   Mean   :3.472   Mean   :2004  \n",
       " chevrolet :19    jetta              :  9   3rd Qu.:4.600   3rd Qu.:2008  \n",
       " audi      :18    mustang            :  9   Max.   :7.000   Max.   :2008  \n",
       " (Other)   :74    (Other)            :177                                 \n",
       "      cyl               trans    drv          cty           hwy        fl     \n",
       " Min.   :4.000   auto(l4)  :83   4:103   18     : 26   Min.   :12.00   c:  1  \n",
       " 1st Qu.:4.000   manual(m5):58   f:106   15     : 24   1st Qu.:18.00   d:  5  \n",
       " Median :6.000   auto(l5)  :39   r: 25   21     : 23   Median :24.00   e:  8  \n",
       " Mean   :5.889   manual(m6):19           13     : 21   Mean   :23.44   p: 52  \n",
       " 3rd Qu.:8.000   auto(s6)  :16           11     : 20   3rd Qu.:27.00   r:168  \n",
       " Max.   :8.000   auto(l6)  : 6           19     : 20   Max.   :44.00          \n",
       "                 (Other)   :13           (Other):100                          \n",
       "        class   \n",
       " 2seater   : 5  \n",
       " compact   :47  \n",
       " midsize   :41  \n",
       " minivan   :11  \n",
       " pickup    :33  \n",
       " subcompact:35  \n",
       " suv       :62  "
      ]
     },
     "metadata": {},
     "output_type": "display_data"
    }
   ],
   "source": [
    "# Summary of the data\n",
    "\n",
    "summary(mpg)"
   ]
  },
  {
   "cell_type": "code",
   "execution_count": 65,
   "metadata": {},
   "outputs": [
    {
     "data": {
      "text/html": [
       "<ol class=list-inline>\n",
       "\t<li>'tbl_df'</li>\n",
       "\t<li>'tbl'</li>\n",
       "\t<li>'data.frame'</li>\n",
       "</ol>\n"
      ],
      "text/latex": [
       "\\begin{enumerate*}\n",
       "\\item 'tbl\\_df'\n",
       "\\item 'tbl'\n",
       "\\item 'data.frame'\n",
       "\\end{enumerate*}\n"
      ],
      "text/markdown": [
       "1. 'tbl_df'\n",
       "2. 'tbl'\n",
       "3. 'data.frame'\n",
       "\n",
       "\n"
      ],
      "text/plain": [
       "[1] \"tbl_df\"     \"tbl\"        \"data.frame\""
      ]
     },
     "metadata": {},
     "output_type": "display_data"
    }
   ],
   "source": [
    "# class of the dataset\n",
    "\n",
    "class(mpg)"
   ]
  },
  {
   "cell_type": "code",
   "execution_count": 66,
   "metadata": {},
   "outputs": [],
   "source": [
    "# convert to dataframe -- will solve so many issues\n",
    "\n",
    "mpg.df <- as.data.frame(mpg)"
   ]
  },
  {
   "cell_type": "code",
   "execution_count": 67,
   "metadata": {},
   "outputs": [
    {
     "data": {
      "text/html": [
       "<table>\n",
       "<thead><tr><th scope=col>manufacturer</th><th scope=col>model</th><th scope=col>displ</th><th scope=col>year</th><th scope=col>cyl</th><th scope=col>trans</th><th scope=col>drv</th><th scope=col>cty</th><th scope=col>hwy</th><th scope=col>fl</th><th scope=col>class</th></tr></thead>\n",
       "<tbody>\n",
       "</tbody>\n",
       "</table>\n"
      ],
      "text/latex": [
       "\\begin{tabular}{r|lllllllllll}\n",
       " manufacturer & model & displ & year & cyl & trans & drv & cty & hwy & fl & class\\\\\n",
       "\\hline\n",
       "\\end{tabular}\n"
      ],
      "text/markdown": [
       "\n",
       "| manufacturer | model | displ | year | cyl | trans | drv | cty | hwy | fl | class |\n",
       "|---|---|---|---|---|---|---|---|---|---|---|\n",
       "\n"
      ],
      "text/plain": [
       "     manufacturer model displ year cyl trans drv cty hwy fl class"
      ]
     },
     "metadata": {},
     "output_type": "display_data"
    }
   ],
   "source": [
    "# check for missing datapoints\n",
    "\n",
    "mpg.df[!complete.cases(mpg.df),]"
   ]
  },
  {
   "cell_type": "code",
   "execution_count": 68,
   "metadata": {},
   "outputs": [],
   "source": [
    "# if we want to create new dataset without missing data\n",
    "\n",
    "# mpg.df <- na.omit(mpg.df)"
   ]
  },
  {
   "cell_type": "code",
   "execution_count": 69,
   "metadata": {},
   "outputs": [],
   "source": [
    "# Finally, what does each of the columns represent\n",
    "\n",
    "?mpg"
   ]
  },
  {
   "cell_type": "code",
   "execution_count": 70,
   "metadata": {},
   "outputs": [
    {
     "data": {
      "text/html": [
       "38"
      ],
      "text/latex": [
       "38"
      ],
      "text/markdown": [
       "38"
      ],
      "text/plain": [
       "[1] 38"
      ]
     },
     "metadata": {},
     "output_type": "display_data"
    }
   ],
   "source": [
    "# usually we don't know how many items we have in a datset so we can do something like\n",
    "\n",
    "length(unique(mpg.df$model))\n",
    "\n",
    "# or.... let's do some visualizations"
   ]
  },
  {
   "cell_type": "markdown",
   "metadata": {},
   "source": [
    "Disclaimer: not doing any data cleaning or feature engineering for this workshop\n",
    "\n",
    "Resource for Fast Exploratory Analysis: https://towardsdatascience.com/simple-fast-exploratory-data-analysis-in-r-with-dataexplorer-package-e055348d9619"
   ]
  }
 ],
 "metadata": {
  "kernelspec": {
   "display_name": "R",
   "language": "R",
   "name": "ir"
  },
  "language_info": {
   "codemirror_mode": "r",
   "file_extension": ".r",
   "mimetype": "text/x-r-source",
   "name": "R",
   "pygments_lexer": "r",
   "version": "3.6.1"
  }
 },
 "nbformat": 4,
 "nbformat_minor": 4
}
